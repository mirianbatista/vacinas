{
  "nbformat": 4,
  "nbformat_minor": 0,
  "metadata": {
    "colab": {
      "name": "vacinas_pyspark.ipynb",
      "provenance": [],
      "collapsed_sections": [],
      "mount_file_id": "1WUiYpiz6cYnCZtrbR8gj5BFos57z0Tie",
      "authorship_tag": "ABX9TyNN9S544XaSsHbLsK6yJURv",
      "include_colab_link": true
    },
    "kernelspec": {
      "name": "python3",
      "display_name": "Python 3"
    },
    "language_info": {
      "name": "python"
    }
  },
  "cells": [
    {
      "cell_type": "markdown",
      "metadata": {
        "id": "view-in-github",
        "colab_type": "text"
      },
      "source": [
        "<a href=\"https://colab.research.google.com/github/mirianbatista/vacinas/blob/master/vacinas_pyspark.ipynb\" target=\"_parent\"><img src=\"https://colab.research.google.com/assets/colab-badge.svg\" alt=\"Open In Colab\"/></a>"
      ]
    },
    {
      "cell_type": "code",
      "source": [
        "!apt-get install default-jdk\n",
        "!wget -q https://archive.apache.org/dist/spark/spark-3.1.2/spark-3.1.2-bin-hadoop3.2.tgz\n",
        "!tar xf spark-3.1.2-bin-hadoop3.2.tgz\n",
        "!pip install -q findspark"
      ],
      "metadata": {
        "id": "RlddVmo2buVX",
        "colab": {
          "base_uri": "https://localhost:8080/"
        },
        "outputId": "71b6d0f4-f957-43e7-cadc-f4b980f05715"
      },
      "execution_count": 28,
      "outputs": [
        {
          "output_type": "stream",
          "name": "stdout",
          "text": [
            "Reading package lists... Done\n",
            "Building dependency tree       \n",
            "Reading state information... Done\n",
            "The following package was automatically installed and is no longer required:\n",
            "  libnvidia-common-460\n",
            "Use 'apt autoremove' to remove it.\n",
            "The following additional packages will be installed:\n",
            "  default-jdk-headless openjdk-11-jdk\n",
            "Suggested packages:\n",
            "  openjdk-11-demo openjdk-11-source visualvm\n",
            "The following NEW packages will be installed:\n",
            "  default-jdk default-jdk-headless openjdk-11-jdk\n",
            "0 upgraded, 3 newly installed, 0 to remove and 42 not upgraded.\n",
            "Need to get 1,556 kB of archives.\n",
            "After this operation, 1,614 kB of additional disk space will be used.\n",
            "Get:1 http://archive.ubuntu.com/ubuntu bionic-updates/main amd64 default-jdk-headless amd64 2:1.11-68ubuntu1~18.04.1 [1,132 B]\n",
            "Get:2 http://archive.ubuntu.com/ubuntu bionic-updates/main amd64 openjdk-11-jdk amd64 11.0.15+10-0ubuntu0.18.04.1 [1,554 kB]\n",
            "Get:3 http://archive.ubuntu.com/ubuntu bionic-updates/main amd64 default-jdk amd64 2:1.11-68ubuntu1~18.04.1 [1,092 B]\n",
            "Fetched 1,556 kB in 1s (1,993 kB/s)\n",
            "Selecting previously unselected package default-jdk-headless.\n",
            "(Reading database ... 155972 files and directories currently installed.)\n",
            "Preparing to unpack .../default-jdk-headless_2%3a1.11-68ubuntu1~18.04.1_amd64.deb ...\n",
            "Unpacking default-jdk-headless (2:1.11-68ubuntu1~18.04.1) ...\n",
            "Selecting previously unselected package openjdk-11-jdk:amd64.\n",
            "Preparing to unpack .../openjdk-11-jdk_11.0.15+10-0ubuntu0.18.04.1_amd64.deb ...\n",
            "Unpacking openjdk-11-jdk:amd64 (11.0.15+10-0ubuntu0.18.04.1) ...\n",
            "Selecting previously unselected package default-jdk.\n",
            "Preparing to unpack .../default-jdk_2%3a1.11-68ubuntu1~18.04.1_amd64.deb ...\n",
            "Unpacking default-jdk (2:1.11-68ubuntu1~18.04.1) ...\n",
            "Setting up openjdk-11-jdk:amd64 (11.0.15+10-0ubuntu0.18.04.1) ...\n",
            "update-alternatives: using /usr/lib/jvm/java-11-openjdk-amd64/bin/jconsole to provide /usr/bin/jconsole (jconsole) in auto mode\n",
            "Setting up default-jdk-headless (2:1.11-68ubuntu1~18.04.1) ...\n",
            "Setting up default-jdk (2:1.11-68ubuntu1~18.04.1) ...\n"
          ]
        }
      ]
    },
    {
      "cell_type": "code",
      "source": [
        "import os\n",
        "os.environ[\"JAVA_HOME\"] = \"/usr/lib/jvm/java-8-openjdk-amd64\"\n",
        "os.environ[\"SPARK_HOME\"] = \"/content/spark-3.1.2-bin-hadoop3.2\"\n",
        "\n",
        "import findspark\n",
        "findspark.init('spark-3.1.2-bin-hadoop3.2')"
      ],
      "metadata": {
        "id": "SyVHisEObuYT"
      },
      "execution_count": null,
      "outputs": []
    },
    {
      "cell_type": "code",
      "source": [
        "from pyspark.sql import SparkSession\n",
        "from pyspark.sql.functions import *\n",
        "import requests\n",
        "from requests.auth import HTTPBasicAuth \n",
        "import pyspark.sql.functions as F"
      ],
      "metadata": {
        "id": "EsUU1lqWm-Pp",
        "colab": {
          "base_uri": "https://localhost:8080/"
        },
        "outputId": "1627193b-5600-4627-f0ab-8c4d5133f18a"
      },
      "execution_count": null,
      "outputs": [
        {
          "output_type": "stream",
          "name": "stderr",
          "text": [
            "/usr/local/lib/python3.7/dist-packages/requests/__init__.py:91: RequestsDependencyWarning: urllib3 (1.26.9) or chardet (3.0.4) doesn't match a supported version!\n",
            "  RequestsDependencyWarning)\n"
          ]
        }
      ]
    },
    {
      "cell_type": "code",
      "source": [
        "access_key = 'access_key'\n",
        "secret_key = 'secret_key'"
      ],
      "metadata": {
        "id": "ZviLGVDvv5yd"
      },
      "execution_count": null,
      "outputs": []
    },
    {
      "cell_type": "code",
      "source": [
        "spark = (SparkSession.builder.appName('Vacinas covid-19')\n",
        "        .config(\"spark.hadoop.fs.s3.impl\", \"org.apache.hadoop.fs.s3a.S3AFileSystem\")\n",
        "        .config(\"spark.hadoop.fs.s3a.fast.upload\", \"true\")\n",
        "        .config(\"com.amazonaws.services.s3.enableV4\", \"true\") \n",
        "        .config('fs.s3a.access.key', access_key)\n",
        "        .config('fs.s3a.secret.key', secret_key)\n",
        "        .getOrCreate())\n",
        "\n",
        "# precisa colocar na pasta jar os jars aws-java-sdk e hadoop-aws (este na mesma versão do hadoop)\n",
        "# https://bigdatagurus.wordpress.com/2021/08/02/include-aws-s3-libraries-in-pyspark/"
      ],
      "metadata": {
        "id": "Yb-Cm8w8UtSR"
      },
      "execution_count": null,
      "outputs": []
    },
    {
      "cell_type": "code",
      "source": [
        "r = requests.get('https://imunizacao-es.saude.gov.br/desc-imunizacao/_search', auth=('imunizacao_public', 'qlto5t&7r_@+#Tlstigi'))  \n",
        "resp = r.json()"
      ],
      "metadata": {
        "id": "r-jbNd4le_CI"
      },
      "execution_count": null,
      "outputs": []
    },
    {
      "cell_type": "code",
      "source": [
        "rdd = spark.sparkContext.parallelize([r.text])\n",
        "\n",
        "df = spark.read.json(rdd)"
      ],
      "metadata": {
        "id": "XD2z-XBKTrAC"
      },
      "execution_count": null,
      "outputs": []
    },
    {
      "cell_type": "code",
      "source": [
        "rdd"
      ],
      "metadata": {
        "id": "g7S6CbHdiMkf",
        "colab": {
          "base_uri": "https://localhost:8080/"
        },
        "outputId": "d45dea62-6bfc-4ff7-ff36-a5949f868c6d"
      },
      "execution_count": null,
      "outputs": [
        {
          "output_type": "execute_result",
          "data": {
            "text/plain": [
              "ParallelCollectionRDD[0] at readRDDFromFile at PythonRDD.scala:274"
            ]
          },
          "metadata": {},
          "execution_count": 10
        }
      ]
    },
    {
      "cell_type": "code",
      "source": [
        "df.show()"
      ],
      "metadata": {
        "id": "oGsJx06-vy7Q",
        "colab": {
          "base_uri": "https://localhost:8080/"
        },
        "outputId": "20a6c903-d839-4a66-f1d3-4b17b1d98722"
      },
      "execution_count": null,
      "outputs": [
        {
          "output_type": "stream",
          "name": "stdout",
          "text": [
            "+--------------+--------------------+---------+----+\n",
            "|       _shards|                hits|timed_out|took|\n",
            "+--------------+--------------------+---------+----+\n",
            "|{0, 0, 30, 30}|{[{84b0d93c-a207-...|    false|  12|\n",
            "+--------------+--------------------+---------+----+\n",
            "\n"
          ]
        }
      ]
    },
    {
      "cell_type": "code",
      "source": [
        "q = df[['hits']]\n",
        "q.show()"
      ],
      "metadata": {
        "id": "tcZQVpwWJyXj",
        "colab": {
          "base_uri": "https://localhost:8080/"
        },
        "outputId": "4fb1fe7e-3df6-403f-a485-582747b13bdc"
      },
      "execution_count": null,
      "outputs": [
        {
          "output_type": "stream",
          "name": "stdout",
          "text": [
            "+--------------------+\n",
            "|                hits|\n",
            "+--------------------+\n",
            "|{[{84b0d93c-a207-...|\n",
            "+--------------------+\n",
            "\n"
          ]
        }
      ]
    },
    {
      "cell_type": "code",
      "source": [
        "z = q.withColumn(\"teste_source\", F.col(\"hits\")[\"hits\"])\n",
        "z.show()"
      ],
      "metadata": {
        "colab": {
          "base_uri": "https://localhost:8080/"
        },
        "id": "VzzpPPSkwTJg",
        "outputId": "68877064-5b1a-45c5-8e38-bcb1b1a9c33e"
      },
      "execution_count": null,
      "outputs": [
        {
          "output_type": "stream",
          "name": "stdout",
          "text": [
            "+--------------------+--------------------+\n",
            "|                hits|        teste_source|\n",
            "+--------------------+--------------------+\n",
            "|{[{84b0d93c-a207-...|[{84b0d93c-a207-4...|\n",
            "+--------------------+--------------------+\n",
            "\n"
          ]
        }
      ]
    },
    {
      "cell_type": "code",
      "source": [
        "ss = z.withColumn('exploded_arr',explode('teste_source'))\n",
        "ss.show()"
      ],
      "metadata": {
        "colab": {
          "base_uri": "https://localhost:8080/"
        },
        "id": "oX8N4mg6zwp-",
        "outputId": "cde3434f-1cf0-4398-f5d5-cb8a05131d2d"
      },
      "execution_count": null,
      "outputs": [
        {
          "output_type": "stream",
          "name": "stdout",
          "text": [
            "+--------------------+--------------------+--------------------+\n",
            "|                hits|        teste_source|        exploded_arr|\n",
            "+--------------------+--------------------+--------------------+\n",
            "|{[{84b0d93c-a207-...|[{84b0d93c-a207-4...|{84b0d93c-a207-4a...|\n",
            "|{[{84b0d93c-a207-...|[{84b0d93c-a207-4...|{298c7793-2509-40...|\n",
            "|{[{84b0d93c-a207-...|[{84b0d93c-a207-4...|{aea4b198-b849-4c...|\n",
            "|{[{84b0d93c-a207-...|[{84b0d93c-a207-4...|{58b4fe2c-338d-4b...|\n",
            "|{[{84b0d93c-a207-...|[{84b0d93c-a207-4...|{7e95ec35-996d-47...|\n",
            "|{[{84b0d93c-a207-...|[{84b0d93c-a207-4...|{a9a13b0b-877f-41...|\n",
            "|{[{84b0d93c-a207-...|[{84b0d93c-a207-4...|{72b20990-1bdb-49...|\n",
            "|{[{84b0d93c-a207-...|[{84b0d93c-a207-4...|{47d5136a-5862-4c...|\n",
            "|{[{84b0d93c-a207-...|[{84b0d93c-a207-4...|{45fb3ed9-3120-44...|\n",
            "|{[{84b0d93c-a207-...|[{84b0d93c-a207-4...|{20e91af8-a5fe-4e...|\n",
            "+--------------------+--------------------+--------------------+\n",
            "\n"
          ]
        }
      ]
    },
    {
      "cell_type": "code",
      "source": [
        "for f in ss.collect(): \n",
        "    print (f.exploded_arr)"
      ],
      "metadata": {
        "colab": {
          "base_uri": "https://localhost:8080/"
        },
        "id": "F0qjiqQu0kx2",
        "outputId": "665634b7-6cf6-41d8-cb98-b3b4ca447354"
      },
      "execution_count": null,
      "outputs": [
        {
          "output_type": "stream",
          "name": "stdout",
          "text": [
            "Row(_id='84b0d93c-a207-4a74-a855-ca693f1593ac-i0b0', _index='desc-imunizacao-v5', _score=1.0, _source=Row(@timestamp='2022-05-26T07:59:02.209Z', @version='1', data_importacao_datalake='2022-05-26T06:07:53.000Z', data_importacao_rnds='2022-05-25T19:11:10.000Z', document_id='84b0d93c-a207-4a74-a855-ca693f1593ac-i0b0', dt_deleted=None, estabelecimento_municipio_codigo='150710', estabelecimento_municipio_nome='SAO CAETANO DE ODIVELAS', estabelecimento_razaoSocial='PREFEITURA MUNICIPAL DE SAO CAETANO DE ODIVELAS', estabelecimento_uf='PA', estabelecimento_valor='2619792', estalecimento_noFantasia='CENTRO DE SAUDE DE SAO CAETANO DE ODIVELAS', id_sistema_origem='16341', paciente_dataNascimento='2000-11-24', paciente_endereco_cep='68775', paciente_endereco_coIbgeMunicipio='150710', paciente_endereco_coPais='10', paciente_endereco_nmMunicipio='SAO CAETANO DE ODIVELAS', paciente_endereco_nmPais='BRASIL', paciente_endereco_uf='PA', paciente_enumSexoBiologico='F', paciente_id='3e1504c13445b29f8bafd58065dcd42fa9c43d82e5fd019d93f34ed88a4140ef', paciente_idade=21, paciente_nacionalidade_enumNacionalidade='B', paciente_racaCor_codigo='03', paciente_racaCor_valor='PARDA', sistema_origem='Novo PNI', status='final', vacina_categoria_codigo='21', vacina_categoria_nome='Gestantes', vacina_codigo='86', vacina_dataAplicacao='2022-04-20T00:00:00.000Z', vacina_descricao_dose='Reforço', vacina_fabricante_nome='SINOVAC/BUTANTAN', vacina_fabricante_referencia='Organization/152', vacina_grupoAtendimento_codigo='001801', vacina_grupoAtendimento_nome='Gestante', vacina_lote='C202107129', vacina_nome='COVID-19 SINOVAC/BUTANTAN - CORONAVAC', vacina_numDose='38'), _type='_doc')\n",
            "Row(_id='298c7793-2509-4027-b462-6c4fabde9348-i0b0', _index='desc-imunizacao-v5', _score=1.0, _source=Row(@timestamp='2022-05-26T07:59:02.210Z', @version='1', data_importacao_datalake='2022-05-26T06:07:53.000Z', data_importacao_rnds='2022-05-25T19:54:47.000Z', document_id='298c7793-2509-4027-b462-6c4fabde9348-i0b0', dt_deleted=None, estabelecimento_municipio_codigo='410690', estabelecimento_municipio_nome='CURITIBA', estabelecimento_razaoSocial='MUNICIPIO DE CURITIBA', estabelecimento_uf='PR', estabelecimento_valor='0016888', estalecimento_noFantasia='UMS CAMPINA DO SIQUEIRA', id_sistema_origem='19762', paciente_dataNascimento='1959-03-29', paciente_endereco_cep='80240', paciente_endereco_coIbgeMunicipio='410690', paciente_endereco_coPais='10', paciente_endereco_nmMunicipio='CURITIBA', paciente_endereco_nmPais='BRASIL', paciente_endereco_uf='PR', paciente_enumSexoBiologico='F', paciente_id='d7f1394f03dff75cf4bfeedb4c451c2b4abac7dbab792da8dcc09040eb149d4a', paciente_idade=63, paciente_nacionalidade_enumNacionalidade='B', paciente_racaCor_codigo='99', paciente_racaCor_valor='SEM INFORMACAO', sistema_origem='E-saúde Curitiba', status='final', vacina_categoria_codigo='2', vacina_categoria_nome='Faixa Etária', vacina_codigo='85', vacina_dataAplicacao='2022-05-25T00:00:00.000Z', vacina_descricao_dose='Reforço', vacina_fabricante_nome='ASTRAZENECA/FIOCRUZ', vacina_fabricante_referencia=None, vacina_grupoAtendimento_codigo='000201', vacina_grupoAtendimento_nome='Pessoas de 18 a 64 anos', vacina_lote='21OVCD316Z', vacina_nome='COVID-19 ASTRAZENECA/FIOCRUZ - COVISHIELD', vacina_numDose='38'), _type='_doc')\n",
            "Row(_id='aea4b198-b849-4ca5-b389-01b19513d1a8-i0b0', _index='desc-imunizacao-v5', _score=1.0, _source=Row(@timestamp='2022-05-26T07:59:02.211Z', @version='1', data_importacao_datalake='2022-05-26T06:07:53.000Z', data_importacao_rnds='2022-05-25T19:48:24.000Z', document_id='aea4b198-b849-4ca5-b389-01b19513d1a8-i0b0', dt_deleted=None, estabelecimento_municipio_codigo='261220', estabelecimento_municipio_nome='SALGUEIRO', estabelecimento_razaoSocial='PREFEITURA MUNICIPAL DE SALGUEIRO', estabelecimento_uf='PE', estabelecimento_valor='2634511', estalecimento_noFantasia='UNIDADE DA FAMILIA DO DIVINO ESP SANTO PS JOSUE DE CASTRO', id_sistema_origem='16341', paciente_dataNascimento='1937-09-10', paciente_endereco_cep='56000', paciente_endereco_coIbgeMunicipio='261220', paciente_endereco_coPais='10', paciente_endereco_nmMunicipio='SALGUEIRO', paciente_endereco_nmPais='BRASIL', paciente_endereco_uf='PE', paciente_enumSexoBiologico='F', paciente_id='867f74e2394738ef73476da6464dc7d6a7b99ff876a0262a1bc1b248e8b8cca6', paciente_idade=84, paciente_nacionalidade_enumNacionalidade='B', paciente_racaCor_codigo='02', paciente_racaCor_valor='PRETA', sistema_origem='Novo PNI', status='final', vacina_categoria_codigo='2', vacina_categoria_nome='Faixa Etária', vacina_codigo='85', vacina_dataAplicacao='2022-05-25T00:00:00.000Z', vacina_descricao_dose='Reforço', vacina_fabricante_nome='ASTRAZENECA/FIOCRUZ', vacina_fabricante_referencia='Organization/149', vacina_grupoAtendimento_codigo='000205', vacina_grupoAtendimento_nome='Pessoas de 80 anos ou mais', vacina_lote='21OVCD348Z', vacina_nome='COVID-19 ASTRAZENECA/FIOCRUZ - COVISHIELD', vacina_numDose='38'), _type='_doc')\n",
            "Row(_id='58b4fe2c-338d-4ba1-9866-350f57e950ec-i0b0', _index='desc-imunizacao-v5', _score=1.0, _source=Row(@timestamp='2022-05-26T07:59:02.212Z', @version='1', data_importacao_datalake='2022-05-26T06:07:53.000Z', data_importacao_rnds='2022-05-25T21:05:42.000Z', document_id='58b4fe2c-338d-4ba1-9866-350f57e950ec-i0b0', dt_deleted=None, estabelecimento_municipio_codigo='355030', estabelecimento_municipio_nome='SAO PAULO', estabelecimento_razaoSocial='PREFEITURA DO MUNICIPIO DE SAO PAULO', estabelecimento_uf='SP', estabelecimento_valor='2787717', estalecimento_noFantasia='UBS J ROBRU GUAIANAZES', id_sistema_origem='18262', paciente_dataNascimento='1961-11-11', paciente_endereco_cep='08431', paciente_endereco_coIbgeMunicipio='355030', paciente_endereco_coPais='10', paciente_endereco_nmMunicipio='SAO PAULO', paciente_endereco_nmPais='BRASIL', paciente_endereco_uf='SP', paciente_enumSexoBiologico='F', paciente_id='23122abb9d18262f97420c4870c17de5b8fb7a781ea15a03e7c5498cdb81dc00', paciente_idade=60, paciente_nacionalidade_enumNacionalidade='B', paciente_racaCor_codigo='01', paciente_racaCor_valor='BRANCA', sistema_origem='VACIVIDA', status='final', vacina_categoria_codigo='2', vacina_categoria_nome='Faixa Etária', vacina_codigo='88', vacina_dataAplicacao='2022-05-25T00:00:00.000Z', vacina_descricao_dose='Reforço', vacina_fabricante_nome='JANSSEN', vacina_fabricante_referencia=None, vacina_grupoAtendimento_codigo='000201', vacina_grupoAtendimento_nome='Pessoas de 18 a 64 anos', vacina_lote='205H21A', vacina_nome='COVID-19 JANSSEN - Ad26.COV2.S', vacina_numDose='38'), _type='_doc')\n",
            "Row(_id='7e95ec35-996d-478a-9ea0-04a310b54102-i0b0', _index='desc-imunizacao-v5', _score=1.0, _source=Row(@timestamp='2022-05-26T07:59:02.236Z', @version='1', data_importacao_datalake='2022-05-26T06:07:53.000Z', data_importacao_rnds='2022-05-25T18:16:42.000Z', document_id='7e95ec35-996d-478a-9ea0-04a310b54102-i0b0', dt_deleted=None, estabelecimento_municipio_codigo='160030', estabelecimento_municipio_nome='MACAPA', estabelecimento_razaoSocial='PREFEITURA MUNICIPAL DE MACAPA', estabelecimento_uf='AP', estabelecimento_valor='6585604', estalecimento_noFantasia='PMM UBS MARABAIXO', id_sistema_origem='16341', paciente_dataNascimento='1975-12-18', paciente_endereco_cep='68912', paciente_endereco_coIbgeMunicipio='160030', paciente_endereco_coPais='10', paciente_endereco_nmMunicipio='MACAPA', paciente_endereco_nmPais='BRASIL', paciente_endereco_uf='AP', paciente_enumSexoBiologico='F', paciente_id='e6d980b44c871487c75e006bbbc43c31ab27414e33ebfcb0e95d8d36f731cecb', paciente_idade=46, paciente_nacionalidade_enumNacionalidade='B', paciente_racaCor_codigo='03', paciente_racaCor_valor='PARDA', sistema_origem='Novo PNI', status='final', vacina_categoria_codigo='2', vacina_categoria_nome='Faixa Etária', vacina_codigo='85', vacina_dataAplicacao='2022-02-18T00:00:00.000Z', vacina_descricao_dose='Reforço', vacina_fabricante_nome='ASTRAZENECA/FIOCRUZ', vacina_fabricante_referencia='Organization/149', vacina_grupoAtendimento_codigo='000201', vacina_grupoAtendimento_nome='Pessoas de 18 a 64 anos', vacina_lote='219VCD268W', vacina_nome='COVID-19 ASTRAZENECA/FIOCRUZ - COVISHIELD', vacina_numDose='38'), _type='_doc')\n",
            "Row(_id='a9a13b0b-877f-412f-b913-b6d24d65a40f-i0b0', _index='desc-imunizacao-v5', _score=1.0, _source=Row(@timestamp='2022-05-26T07:59:02.238Z', @version='1', data_importacao_datalake='2022-05-26T06:07:53.000Z', data_importacao_rnds='2022-05-26T05:52:34.000Z', document_id='a9a13b0b-877f-412f-b913-b6d24d65a40f-i0b0', dt_deleted=None, estabelecimento_municipio_codigo='320530', estabelecimento_municipio_nome='VITORIA', estabelecimento_razaoSocial='MUNICIPIO DE VITORIA', estabelecimento_uf='ES', estabelecimento_valor='0011894', estalecimento_noFantasia='UNIDADE BASICA DE SAUDE GRANDE VITORIA', id_sistema_origem='24294', paciente_dataNascimento='1998-04-12', paciente_endereco_cep='29024', paciente_endereco_coIbgeMunicipio='320530', paciente_endereco_coPais='10', paciente_endereco_nmMunicipio='VITORIA', paciente_endereco_nmPais='BRASIL', paciente_endereco_uf='ES', paciente_enumSexoBiologico='F', paciente_id='bb91622f14190542d4fb1dc7c71b2f210b688b3a9f245a8b3a22caa5523f9642', paciente_idade=24, paciente_nacionalidade_enumNacionalidade='B', paciente_racaCor_codigo='01', paciente_racaCor_valor='BRANCA', sistema_origem='VACINA E CONFIA ES', status='final', vacina_categoria_codigo='2', vacina_categoria_nome='Faixa Etária', vacina_codigo='88', vacina_dataAplicacao='2022-05-25T00:00:00.000Z', vacina_descricao_dose='Reforço', vacina_fabricante_nome='JANSSEN', vacina_fabricante_referencia=None, vacina_grupoAtendimento_codigo='000201', vacina_grupoAtendimento_nome='Pessoas de 18 a 64 anos', vacina_lote='203G21A', vacina_nome='COVID-19 JANSSEN - Ad26.COV2.S', vacina_numDose='38'), _type='_doc')\n",
            "Row(_id='72b20990-1bdb-493c-b90b-06fa4618dbac-i0b0', _index='desc-imunizacao-v5', _score=1.0, _source=Row(@timestamp='2022-05-26T07:59:02.283Z', @version='1', data_importacao_datalake='2022-05-26T06:07:53.000Z', data_importacao_rnds='2022-05-25T19:54:10.000Z', document_id='72b20990-1bdb-493c-b90b-06fa4618dbac-i0b0', dt_deleted=None, estabelecimento_municipio_codigo='410690', estabelecimento_municipio_nome='CURITIBA', estabelecimento_razaoSocial='MUNICIPIO DE CURITIBA', estabelecimento_uf='PR', estabelecimento_valor='0016985', estalecimento_noFantasia='UMS DOM BOSCO PSF', id_sistema_origem='19762', paciente_dataNascimento='1958-06-01', paciente_endereco_cep='81490', paciente_endereco_coIbgeMunicipio='410690', paciente_endereco_coPais='10', paciente_endereco_nmMunicipio='CURITIBA', paciente_endereco_nmPais='BRASIL', paciente_endereco_uf='PR', paciente_enumSexoBiologico='M', paciente_id='93608044bba61e7c88e500e1da2b627f449e44c793e40842b01b4cca2cd72fc8', paciente_idade=63, paciente_nacionalidade_enumNacionalidade='B', paciente_racaCor_codigo='01', paciente_racaCor_valor='BRANCA', sistema_origem='E-saúde Curitiba', status='final', vacina_categoria_codigo='2', vacina_categoria_nome='Faixa Etária', vacina_codigo='85', vacina_dataAplicacao='2022-05-25T00:00:00.000Z', vacina_descricao_dose='Reforço', vacina_fabricante_nome='ASTRAZENECA/FIOCRUZ', vacina_fabricante_referencia=None, vacina_grupoAtendimento_codigo='000201', vacina_grupoAtendimento_nome='Pessoas de 18 a 64 anos', vacina_lote='21OVCD312W', vacina_nome='COVID-19 ASTRAZENECA/FIOCRUZ - COVISHIELD', vacina_numDose='38'), _type='_doc')\n",
            "Row(_id='47d5136a-5862-4c1f-b5c9-e5c11582305d-i0b0', _index='desc-imunizacao-v5', _score=1.0, _source=Row(@timestamp='2022-05-26T07:59:02.286Z', @version='1', data_importacao_datalake='2022-05-26T06:07:53.000Z', data_importacao_rnds='2022-05-25T18:40:09.000Z', document_id='47d5136a-5862-4c1f-b5c9-e5c11582305d-i0b0', dt_deleted=None, estabelecimento_municipio_codigo='330455', estabelecimento_municipio_nome='RIO DE JANEIRO', estabelecimento_razaoSocial='SMS RIO CF SOUZA MARQUES AP 33', estabelecimento_uf='RJ', estabelecimento_valor='5417708', estalecimento_noFantasia='SMS CF SOUZA MARQUES AP 33', id_sistema_origem='16341', paciente_dataNascimento='1984-07-29', paciente_endereco_cep='26525', paciente_endereco_coIbgeMunicipio='330320', paciente_endereco_coPais='10', paciente_endereco_nmMunicipio='NILOPOLIS', paciente_endereco_nmPais='BRASIL', paciente_endereco_uf='RJ', paciente_enumSexoBiologico='M', paciente_id='b2dbfc07d67fa598c92aa10bee3bc74b6a50792dd01fbc95c782d704ad738375', paciente_idade=37, paciente_nacionalidade_enumNacionalidade='B', paciente_racaCor_codigo='99', paciente_racaCor_valor='SEM INFORMACAO', sistema_origem='Novo PNI', status='final', vacina_categoria_codigo='2', vacina_categoria_nome='Faixa Etária', vacina_codigo='85', vacina_dataAplicacao='2022-05-25T00:00:00.000Z', vacina_descricao_dose='Reforço', vacina_fabricante_nome='ASTRAZENECA/FIOCRUZ', vacina_fabricante_referencia='Organization/149', vacina_grupoAtendimento_codigo='000201', vacina_grupoAtendimento_nome='Pessoas de 18 a 64 anos', vacina_lote='21OVCD314W', vacina_nome='COVID-19 ASTRAZENECA/FIOCRUZ - COVISHIELD', vacina_numDose='38'), _type='_doc')\n",
            "Row(_id='45fb3ed9-3120-4456-81e5-cb0783811cec-i0b0', _index='desc-imunizacao-v5', _score=1.0, _source=Row(@timestamp='2022-05-26T07:59:02.287Z', @version='1', data_importacao_datalake='2022-05-26T06:07:53.000Z', data_importacao_rnds='2022-05-25T18:09:03.000Z', document_id='45fb3ed9-3120-4456-81e5-cb0783811cec-i0b0', dt_deleted=None, estabelecimento_municipio_codigo='520870', estabelecimento_municipio_nome='GOIANIA', estabelecimento_razaoSocial='SECRETARIA MUNICIPAL DE SAUDE', estabelecimento_uf='GO', estabelecimento_valor='2339560', estalecimento_noFantasia='CENTRO DE SAUDE PARQUE AMAZONIA', id_sistema_origem='16341', paciente_dataNascimento='1969-07-15', paciente_endereco_cep='74255', paciente_endereco_coIbgeMunicipio='520870', paciente_endereco_coPais='10', paciente_endereco_nmMunicipio='GOIANIA', paciente_endereco_nmPais='BRASIL', paciente_endereco_uf='GO', paciente_enumSexoBiologico='F', paciente_id='b3b133b2aae4dfd20c65d12f544082ec125dd239179679bfa7500d654918dd8d', paciente_idade=52, paciente_nacionalidade_enumNacionalidade='B', paciente_racaCor_codigo='04', paciente_racaCor_valor='AMARELA', sistema_origem='Novo PNI', status='final', vacina_categoria_codigo='8', vacina_categoria_nome='Trabalhadores da Educação', vacina_codigo='87', vacina_dataAplicacao='2022-01-17T00:00:00.000Z', vacina_descricao_dose='Reforço', vacina_fabricante_nome='PFIZER', vacina_fabricante_referencia='Organization/28290', vacina_grupoAtendimento_codigo='000802', vacina_grupoAtendimento_nome='Ensino Superior', vacina_lote='FF5108', vacina_nome='COVID-19 PFIZER - COMIRNATY', vacina_numDose='38'), _type='_doc')\n",
            "Row(_id='20e91af8-a5fe-4ee3-b13f-3315b4325d0a-i0b0', _index='desc-imunizacao-v5', _score=1.0, _source=Row(@timestamp='2022-05-26T07:59:02.249Z', @version='1', data_importacao_datalake='2022-05-26T06:07:53.000Z', data_importacao_rnds='2022-05-25T15:00:00.000Z', document_id='20e91af8-a5fe-4ee3-b13f-3315b4325d0a-i0b0', dt_deleted=None, estabelecimento_municipio_codigo='292740', estabelecimento_municipio_nome='SALVADOR', estabelecimento_razaoSocial='SECRETARIA MUNICIPAL DE SAUDE DE SALVADOR', estabelecimento_uf='BA', estabelecimento_valor='0006971', estalecimento_noFantasia='USF ALTO DO CRUZEIRO', id_sistema_origem='17668', paciente_dataNascimento='1995-01-11', paciente_endereco_cep='40725', paciente_endereco_coIbgeMunicipio='292740', paciente_endereco_coPais='10', paciente_endereco_nmMunicipio='SALVADOR', paciente_endereco_nmPais='BRASIL', paciente_endereco_uf='BA', paciente_enumSexoBiologico='F', paciente_id='1bb65df9c8868f43152b260bebbd5ceb3a37df13ff43cd88095fa405fbac6db9', paciente_idade=27, paciente_nacionalidade_enumNacionalidade='B', paciente_racaCor_codigo='99', paciente_racaCor_valor='SEM INFORMACAO', sistema_origem='VIDA+', status='final', vacina_categoria_codigo='2', vacina_categoria_nome='Faixa Etária', vacina_codigo='87', vacina_dataAplicacao='2022-05-25T00:00:00.000Z', vacina_descricao_dose='Reforço', vacina_fabricante_nome='PFIZER', vacina_fabricante_referencia='PFIZER MANUFACTURING BELGIUM NV/61072393000133', vacina_grupoAtendimento_codigo='000201', vacina_grupoAtendimento_nome='Pessoas de 18 a 64 anos', vacina_lote='FP7082', vacina_nome='COVID-19 PFIZER - COMIRNATY', vacina_numDose='38'), _type='_doc')\n"
          ]
        }
      ]
    },
    {
      "cell_type": "code",
      "source": [
        "df_final = ss.withColumn(\"source_exploded\", F.col(\"exploded_arr\")[\"_source\"])\n",
        "df_final.show()"
      ],
      "metadata": {
        "colab": {
          "base_uri": "https://localhost:8080/"
        },
        "id": "1N8H-RHk499_",
        "outputId": "d1f6fa59-8c31-4540-c2c9-268e60388dcd"
      },
      "execution_count": null,
      "outputs": [
        {
          "output_type": "stream",
          "name": "stdout",
          "text": [
            "+--------------------+--------------------+--------------------+--------------------+\n",
            "|                hits|        teste_source|        exploded_arr|     source_exploded|\n",
            "+--------------------+--------------------+--------------------+--------------------+\n",
            "|{[{84b0d93c-a207-...|[{84b0d93c-a207-4...|{84b0d93c-a207-4a...|{2022-05-26T07:59...|\n",
            "|{[{84b0d93c-a207-...|[{84b0d93c-a207-4...|{298c7793-2509-40...|{2022-05-26T07:59...|\n",
            "|{[{84b0d93c-a207-...|[{84b0d93c-a207-4...|{aea4b198-b849-4c...|{2022-05-26T07:59...|\n",
            "|{[{84b0d93c-a207-...|[{84b0d93c-a207-4...|{58b4fe2c-338d-4b...|{2022-05-26T07:59...|\n",
            "|{[{84b0d93c-a207-...|[{84b0d93c-a207-4...|{7e95ec35-996d-47...|{2022-05-26T07:59...|\n",
            "|{[{84b0d93c-a207-...|[{84b0d93c-a207-4...|{a9a13b0b-877f-41...|{2022-05-26T07:59...|\n",
            "|{[{84b0d93c-a207-...|[{84b0d93c-a207-4...|{72b20990-1bdb-49...|{2022-05-26T07:59...|\n",
            "|{[{84b0d93c-a207-...|[{84b0d93c-a207-4...|{47d5136a-5862-4c...|{2022-05-26T07:59...|\n",
            "|{[{84b0d93c-a207-...|[{84b0d93c-a207-4...|{45fb3ed9-3120-44...|{2022-05-26T07:59...|\n",
            "|{[{84b0d93c-a207-...|[{84b0d93c-a207-4...|{20e91af8-a5fe-4e...|{2022-05-26T07:59...|\n",
            "+--------------------+--------------------+--------------------+--------------------+\n",
            "\n"
          ]
        }
      ]
    },
    {
      "cell_type": "code",
      "source": [
        "for f in df_final.collect(): \n",
        "    print (f.source_exploded)"
      ],
      "metadata": {
        "colab": {
          "base_uri": "https://localhost:8080/"
        },
        "id": "VknHJbxs5lxa",
        "outputId": "445c43af-1b14-4ce1-e8a0-3e67652956b0"
      },
      "execution_count": null,
      "outputs": [
        {
          "output_type": "stream",
          "name": "stdout",
          "text": [
            "Row(@timestamp='2022-05-26T07:59:02.209Z', @version='1', data_importacao_datalake='2022-05-26T06:07:53.000Z', data_importacao_rnds='2022-05-25T19:11:10.000Z', document_id='84b0d93c-a207-4a74-a855-ca693f1593ac-i0b0', dt_deleted=None, estabelecimento_municipio_codigo='150710', estabelecimento_municipio_nome='SAO CAETANO DE ODIVELAS', estabelecimento_razaoSocial='PREFEITURA MUNICIPAL DE SAO CAETANO DE ODIVELAS', estabelecimento_uf='PA', estabelecimento_valor='2619792', estalecimento_noFantasia='CENTRO DE SAUDE DE SAO CAETANO DE ODIVELAS', id_sistema_origem='16341', paciente_dataNascimento='2000-11-24', paciente_endereco_cep='68775', paciente_endereco_coIbgeMunicipio='150710', paciente_endereco_coPais='10', paciente_endereco_nmMunicipio='SAO CAETANO DE ODIVELAS', paciente_endereco_nmPais='BRASIL', paciente_endereco_uf='PA', paciente_enumSexoBiologico='F', paciente_id='3e1504c13445b29f8bafd58065dcd42fa9c43d82e5fd019d93f34ed88a4140ef', paciente_idade=21, paciente_nacionalidade_enumNacionalidade='B', paciente_racaCor_codigo='03', paciente_racaCor_valor='PARDA', sistema_origem='Novo PNI', status='final', vacina_categoria_codigo='21', vacina_categoria_nome='Gestantes', vacina_codigo='86', vacina_dataAplicacao='2022-04-20T00:00:00.000Z', vacina_descricao_dose='Reforço', vacina_fabricante_nome='SINOVAC/BUTANTAN', vacina_fabricante_referencia='Organization/152', vacina_grupoAtendimento_codigo='001801', vacina_grupoAtendimento_nome='Gestante', vacina_lote='C202107129', vacina_nome='COVID-19 SINOVAC/BUTANTAN - CORONAVAC', vacina_numDose='38')\n",
            "Row(@timestamp='2022-05-26T07:59:02.210Z', @version='1', data_importacao_datalake='2022-05-26T06:07:53.000Z', data_importacao_rnds='2022-05-25T19:54:47.000Z', document_id='298c7793-2509-4027-b462-6c4fabde9348-i0b0', dt_deleted=None, estabelecimento_municipio_codigo='410690', estabelecimento_municipio_nome='CURITIBA', estabelecimento_razaoSocial='MUNICIPIO DE CURITIBA', estabelecimento_uf='PR', estabelecimento_valor='0016888', estalecimento_noFantasia='UMS CAMPINA DO SIQUEIRA', id_sistema_origem='19762', paciente_dataNascimento='1959-03-29', paciente_endereco_cep='80240', paciente_endereco_coIbgeMunicipio='410690', paciente_endereco_coPais='10', paciente_endereco_nmMunicipio='CURITIBA', paciente_endereco_nmPais='BRASIL', paciente_endereco_uf='PR', paciente_enumSexoBiologico='F', paciente_id='d7f1394f03dff75cf4bfeedb4c451c2b4abac7dbab792da8dcc09040eb149d4a', paciente_idade=63, paciente_nacionalidade_enumNacionalidade='B', paciente_racaCor_codigo='99', paciente_racaCor_valor='SEM INFORMACAO', sistema_origem='E-saúde Curitiba', status='final', vacina_categoria_codigo='2', vacina_categoria_nome='Faixa Etária', vacina_codigo='85', vacina_dataAplicacao='2022-05-25T00:00:00.000Z', vacina_descricao_dose='Reforço', vacina_fabricante_nome='ASTRAZENECA/FIOCRUZ', vacina_fabricante_referencia=None, vacina_grupoAtendimento_codigo='000201', vacina_grupoAtendimento_nome='Pessoas de 18 a 64 anos', vacina_lote='21OVCD316Z', vacina_nome='COVID-19 ASTRAZENECA/FIOCRUZ - COVISHIELD', vacina_numDose='38')\n",
            "Row(@timestamp='2022-05-26T07:59:02.211Z', @version='1', data_importacao_datalake='2022-05-26T06:07:53.000Z', data_importacao_rnds='2022-05-25T19:48:24.000Z', document_id='aea4b198-b849-4ca5-b389-01b19513d1a8-i0b0', dt_deleted=None, estabelecimento_municipio_codigo='261220', estabelecimento_municipio_nome='SALGUEIRO', estabelecimento_razaoSocial='PREFEITURA MUNICIPAL DE SALGUEIRO', estabelecimento_uf='PE', estabelecimento_valor='2634511', estalecimento_noFantasia='UNIDADE DA FAMILIA DO DIVINO ESP SANTO PS JOSUE DE CASTRO', id_sistema_origem='16341', paciente_dataNascimento='1937-09-10', paciente_endereco_cep='56000', paciente_endereco_coIbgeMunicipio='261220', paciente_endereco_coPais='10', paciente_endereco_nmMunicipio='SALGUEIRO', paciente_endereco_nmPais='BRASIL', paciente_endereco_uf='PE', paciente_enumSexoBiologico='F', paciente_id='867f74e2394738ef73476da6464dc7d6a7b99ff876a0262a1bc1b248e8b8cca6', paciente_idade=84, paciente_nacionalidade_enumNacionalidade='B', paciente_racaCor_codigo='02', paciente_racaCor_valor='PRETA', sistema_origem='Novo PNI', status='final', vacina_categoria_codigo='2', vacina_categoria_nome='Faixa Etária', vacina_codigo='85', vacina_dataAplicacao='2022-05-25T00:00:00.000Z', vacina_descricao_dose='Reforço', vacina_fabricante_nome='ASTRAZENECA/FIOCRUZ', vacina_fabricante_referencia='Organization/149', vacina_grupoAtendimento_codigo='000205', vacina_grupoAtendimento_nome='Pessoas de 80 anos ou mais', vacina_lote='21OVCD348Z', vacina_nome='COVID-19 ASTRAZENECA/FIOCRUZ - COVISHIELD', vacina_numDose='38')\n",
            "Row(@timestamp='2022-05-26T07:59:02.212Z', @version='1', data_importacao_datalake='2022-05-26T06:07:53.000Z', data_importacao_rnds='2022-05-25T21:05:42.000Z', document_id='58b4fe2c-338d-4ba1-9866-350f57e950ec-i0b0', dt_deleted=None, estabelecimento_municipio_codigo='355030', estabelecimento_municipio_nome='SAO PAULO', estabelecimento_razaoSocial='PREFEITURA DO MUNICIPIO DE SAO PAULO', estabelecimento_uf='SP', estabelecimento_valor='2787717', estalecimento_noFantasia='UBS J ROBRU GUAIANAZES', id_sistema_origem='18262', paciente_dataNascimento='1961-11-11', paciente_endereco_cep='08431', paciente_endereco_coIbgeMunicipio='355030', paciente_endereco_coPais='10', paciente_endereco_nmMunicipio='SAO PAULO', paciente_endereco_nmPais='BRASIL', paciente_endereco_uf='SP', paciente_enumSexoBiologico='F', paciente_id='23122abb9d18262f97420c4870c17de5b8fb7a781ea15a03e7c5498cdb81dc00', paciente_idade=60, paciente_nacionalidade_enumNacionalidade='B', paciente_racaCor_codigo='01', paciente_racaCor_valor='BRANCA', sistema_origem='VACIVIDA', status='final', vacina_categoria_codigo='2', vacina_categoria_nome='Faixa Etária', vacina_codigo='88', vacina_dataAplicacao='2022-05-25T00:00:00.000Z', vacina_descricao_dose='Reforço', vacina_fabricante_nome='JANSSEN', vacina_fabricante_referencia=None, vacina_grupoAtendimento_codigo='000201', vacina_grupoAtendimento_nome='Pessoas de 18 a 64 anos', vacina_lote='205H21A', vacina_nome='COVID-19 JANSSEN - Ad26.COV2.S', vacina_numDose='38')\n",
            "Row(@timestamp='2022-05-26T07:59:02.236Z', @version='1', data_importacao_datalake='2022-05-26T06:07:53.000Z', data_importacao_rnds='2022-05-25T18:16:42.000Z', document_id='7e95ec35-996d-478a-9ea0-04a310b54102-i0b0', dt_deleted=None, estabelecimento_municipio_codigo='160030', estabelecimento_municipio_nome='MACAPA', estabelecimento_razaoSocial='PREFEITURA MUNICIPAL DE MACAPA', estabelecimento_uf='AP', estabelecimento_valor='6585604', estalecimento_noFantasia='PMM UBS MARABAIXO', id_sistema_origem='16341', paciente_dataNascimento='1975-12-18', paciente_endereco_cep='68912', paciente_endereco_coIbgeMunicipio='160030', paciente_endereco_coPais='10', paciente_endereco_nmMunicipio='MACAPA', paciente_endereco_nmPais='BRASIL', paciente_endereco_uf='AP', paciente_enumSexoBiologico='F', paciente_id='e6d980b44c871487c75e006bbbc43c31ab27414e33ebfcb0e95d8d36f731cecb', paciente_idade=46, paciente_nacionalidade_enumNacionalidade='B', paciente_racaCor_codigo='03', paciente_racaCor_valor='PARDA', sistema_origem='Novo PNI', status='final', vacina_categoria_codigo='2', vacina_categoria_nome='Faixa Etária', vacina_codigo='85', vacina_dataAplicacao='2022-02-18T00:00:00.000Z', vacina_descricao_dose='Reforço', vacina_fabricante_nome='ASTRAZENECA/FIOCRUZ', vacina_fabricante_referencia='Organization/149', vacina_grupoAtendimento_codigo='000201', vacina_grupoAtendimento_nome='Pessoas de 18 a 64 anos', vacina_lote='219VCD268W', vacina_nome='COVID-19 ASTRAZENECA/FIOCRUZ - COVISHIELD', vacina_numDose='38')\n",
            "Row(@timestamp='2022-05-26T07:59:02.238Z', @version='1', data_importacao_datalake='2022-05-26T06:07:53.000Z', data_importacao_rnds='2022-05-26T05:52:34.000Z', document_id='a9a13b0b-877f-412f-b913-b6d24d65a40f-i0b0', dt_deleted=None, estabelecimento_municipio_codigo='320530', estabelecimento_municipio_nome='VITORIA', estabelecimento_razaoSocial='MUNICIPIO DE VITORIA', estabelecimento_uf='ES', estabelecimento_valor='0011894', estalecimento_noFantasia='UNIDADE BASICA DE SAUDE GRANDE VITORIA', id_sistema_origem='24294', paciente_dataNascimento='1998-04-12', paciente_endereco_cep='29024', paciente_endereco_coIbgeMunicipio='320530', paciente_endereco_coPais='10', paciente_endereco_nmMunicipio='VITORIA', paciente_endereco_nmPais='BRASIL', paciente_endereco_uf='ES', paciente_enumSexoBiologico='F', paciente_id='bb91622f14190542d4fb1dc7c71b2f210b688b3a9f245a8b3a22caa5523f9642', paciente_idade=24, paciente_nacionalidade_enumNacionalidade='B', paciente_racaCor_codigo='01', paciente_racaCor_valor='BRANCA', sistema_origem='VACINA E CONFIA ES', status='final', vacina_categoria_codigo='2', vacina_categoria_nome='Faixa Etária', vacina_codigo='88', vacina_dataAplicacao='2022-05-25T00:00:00.000Z', vacina_descricao_dose='Reforço', vacina_fabricante_nome='JANSSEN', vacina_fabricante_referencia=None, vacina_grupoAtendimento_codigo='000201', vacina_grupoAtendimento_nome='Pessoas de 18 a 64 anos', vacina_lote='203G21A', vacina_nome='COVID-19 JANSSEN - Ad26.COV2.S', vacina_numDose='38')\n",
            "Row(@timestamp='2022-05-26T07:59:02.283Z', @version='1', data_importacao_datalake='2022-05-26T06:07:53.000Z', data_importacao_rnds='2022-05-25T19:54:10.000Z', document_id='72b20990-1bdb-493c-b90b-06fa4618dbac-i0b0', dt_deleted=None, estabelecimento_municipio_codigo='410690', estabelecimento_municipio_nome='CURITIBA', estabelecimento_razaoSocial='MUNICIPIO DE CURITIBA', estabelecimento_uf='PR', estabelecimento_valor='0016985', estalecimento_noFantasia='UMS DOM BOSCO PSF', id_sistema_origem='19762', paciente_dataNascimento='1958-06-01', paciente_endereco_cep='81490', paciente_endereco_coIbgeMunicipio='410690', paciente_endereco_coPais='10', paciente_endereco_nmMunicipio='CURITIBA', paciente_endereco_nmPais='BRASIL', paciente_endereco_uf='PR', paciente_enumSexoBiologico='M', paciente_id='93608044bba61e7c88e500e1da2b627f449e44c793e40842b01b4cca2cd72fc8', paciente_idade=63, paciente_nacionalidade_enumNacionalidade='B', paciente_racaCor_codigo='01', paciente_racaCor_valor='BRANCA', sistema_origem='E-saúde Curitiba', status='final', vacina_categoria_codigo='2', vacina_categoria_nome='Faixa Etária', vacina_codigo='85', vacina_dataAplicacao='2022-05-25T00:00:00.000Z', vacina_descricao_dose='Reforço', vacina_fabricante_nome='ASTRAZENECA/FIOCRUZ', vacina_fabricante_referencia=None, vacina_grupoAtendimento_codigo='000201', vacina_grupoAtendimento_nome='Pessoas de 18 a 64 anos', vacina_lote='21OVCD312W', vacina_nome='COVID-19 ASTRAZENECA/FIOCRUZ - COVISHIELD', vacina_numDose='38')\n",
            "Row(@timestamp='2022-05-26T07:59:02.286Z', @version='1', data_importacao_datalake='2022-05-26T06:07:53.000Z', data_importacao_rnds='2022-05-25T18:40:09.000Z', document_id='47d5136a-5862-4c1f-b5c9-e5c11582305d-i0b0', dt_deleted=None, estabelecimento_municipio_codigo='330455', estabelecimento_municipio_nome='RIO DE JANEIRO', estabelecimento_razaoSocial='SMS RIO CF SOUZA MARQUES AP 33', estabelecimento_uf='RJ', estabelecimento_valor='5417708', estalecimento_noFantasia='SMS CF SOUZA MARQUES AP 33', id_sistema_origem='16341', paciente_dataNascimento='1984-07-29', paciente_endereco_cep='26525', paciente_endereco_coIbgeMunicipio='330320', paciente_endereco_coPais='10', paciente_endereco_nmMunicipio='NILOPOLIS', paciente_endereco_nmPais='BRASIL', paciente_endereco_uf='RJ', paciente_enumSexoBiologico='M', paciente_id='b2dbfc07d67fa598c92aa10bee3bc74b6a50792dd01fbc95c782d704ad738375', paciente_idade=37, paciente_nacionalidade_enumNacionalidade='B', paciente_racaCor_codigo='99', paciente_racaCor_valor='SEM INFORMACAO', sistema_origem='Novo PNI', status='final', vacina_categoria_codigo='2', vacina_categoria_nome='Faixa Etária', vacina_codigo='85', vacina_dataAplicacao='2022-05-25T00:00:00.000Z', vacina_descricao_dose='Reforço', vacina_fabricante_nome='ASTRAZENECA/FIOCRUZ', vacina_fabricante_referencia='Organization/149', vacina_grupoAtendimento_codigo='000201', vacina_grupoAtendimento_nome='Pessoas de 18 a 64 anos', vacina_lote='21OVCD314W', vacina_nome='COVID-19 ASTRAZENECA/FIOCRUZ - COVISHIELD', vacina_numDose='38')\n",
            "Row(@timestamp='2022-05-26T07:59:02.287Z', @version='1', data_importacao_datalake='2022-05-26T06:07:53.000Z', data_importacao_rnds='2022-05-25T18:09:03.000Z', document_id='45fb3ed9-3120-4456-81e5-cb0783811cec-i0b0', dt_deleted=None, estabelecimento_municipio_codigo='520870', estabelecimento_municipio_nome='GOIANIA', estabelecimento_razaoSocial='SECRETARIA MUNICIPAL DE SAUDE', estabelecimento_uf='GO', estabelecimento_valor='2339560', estalecimento_noFantasia='CENTRO DE SAUDE PARQUE AMAZONIA', id_sistema_origem='16341', paciente_dataNascimento='1969-07-15', paciente_endereco_cep='74255', paciente_endereco_coIbgeMunicipio='520870', paciente_endereco_coPais='10', paciente_endereco_nmMunicipio='GOIANIA', paciente_endereco_nmPais='BRASIL', paciente_endereco_uf='GO', paciente_enumSexoBiologico='F', paciente_id='b3b133b2aae4dfd20c65d12f544082ec125dd239179679bfa7500d654918dd8d', paciente_idade=52, paciente_nacionalidade_enumNacionalidade='B', paciente_racaCor_codigo='04', paciente_racaCor_valor='AMARELA', sistema_origem='Novo PNI', status='final', vacina_categoria_codigo='8', vacina_categoria_nome='Trabalhadores da Educação', vacina_codigo='87', vacina_dataAplicacao='2022-01-17T00:00:00.000Z', vacina_descricao_dose='Reforço', vacina_fabricante_nome='PFIZER', vacina_fabricante_referencia='Organization/28290', vacina_grupoAtendimento_codigo='000802', vacina_grupoAtendimento_nome='Ensino Superior', vacina_lote='FF5108', vacina_nome='COVID-19 PFIZER - COMIRNATY', vacina_numDose='38')\n",
            "Row(@timestamp='2022-05-26T07:59:02.249Z', @version='1', data_importacao_datalake='2022-05-26T06:07:53.000Z', data_importacao_rnds='2022-05-25T15:00:00.000Z', document_id='20e91af8-a5fe-4ee3-b13f-3315b4325d0a-i0b0', dt_deleted=None, estabelecimento_municipio_codigo='292740', estabelecimento_municipio_nome='SALVADOR', estabelecimento_razaoSocial='SECRETARIA MUNICIPAL DE SAUDE DE SALVADOR', estabelecimento_uf='BA', estabelecimento_valor='0006971', estalecimento_noFantasia='USF ALTO DO CRUZEIRO', id_sistema_origem='17668', paciente_dataNascimento='1995-01-11', paciente_endereco_cep='40725', paciente_endereco_coIbgeMunicipio='292740', paciente_endereco_coPais='10', paciente_endereco_nmMunicipio='SALVADOR', paciente_endereco_nmPais='BRASIL', paciente_endereco_uf='BA', paciente_enumSexoBiologico='F', paciente_id='1bb65df9c8868f43152b260bebbd5ceb3a37df13ff43cd88095fa405fbac6db9', paciente_idade=27, paciente_nacionalidade_enumNacionalidade='B', paciente_racaCor_codigo='99', paciente_racaCor_valor='SEM INFORMACAO', sistema_origem='VIDA+', status='final', vacina_categoria_codigo='2', vacina_categoria_nome='Faixa Etária', vacina_codigo='87', vacina_dataAplicacao='2022-05-25T00:00:00.000Z', vacina_descricao_dose='Reforço', vacina_fabricante_nome='PFIZER', vacina_fabricante_referencia='PFIZER MANUFACTURING BELGIUM NV/61072393000133', vacina_grupoAtendimento_codigo='000201', vacina_grupoAtendimento_nome='Pessoas de 18 a 64 anos', vacina_lote='FP7082', vacina_nome='COVID-19 PFIZER - COMIRNATY', vacina_numDose='38')\n"
          ]
        }
      ]
    },
    {
      "cell_type": "code",
      "source": [
        "df_final.withColumn(\"data_importacao_datalake\",df_final.source_exploded[\"data_importacao_datalake\"]).withColumn(\"estabelecimento_razaoSocial\",df_final.source_exploded[\"estabelecimento_razaoSocial\"]).show()"
      ],
      "metadata": {
        "colab": {
          "base_uri": "https://localhost:8080/"
        },
        "id": "B1CmryaHTN9l",
        "outputId": "1cd6b365-3f81-4f84-9813-2600b702eea2"
      },
      "execution_count": null,
      "outputs": [
        {
          "output_type": "stream",
          "name": "stdout",
          "text": [
            "+--------------------+--------------------+--------------------+--------------------+------------------------+---------------------------+\n",
            "|                hits|        teste_source|        exploded_arr|     source_exploded|data_importacao_datalake|estabelecimento_razaoSocial|\n",
            "+--------------------+--------------------+--------------------+--------------------+------------------------+---------------------------+\n",
            "|{[{84b0d93c-a207-...|[{84b0d93c-a207-4...|{84b0d93c-a207-4a...|{2022-05-26T07:59...|    2022-05-26T06:07:...|       PREFEITURA MUNICI...|\n",
            "|{[{84b0d93c-a207-...|[{84b0d93c-a207-4...|{298c7793-2509-40...|{2022-05-26T07:59...|    2022-05-26T06:07:...|       MUNICIPIO DE CURI...|\n",
            "|{[{84b0d93c-a207-...|[{84b0d93c-a207-4...|{aea4b198-b849-4c...|{2022-05-26T07:59...|    2022-05-26T06:07:...|       PREFEITURA MUNICI...|\n",
            "|{[{84b0d93c-a207-...|[{84b0d93c-a207-4...|{58b4fe2c-338d-4b...|{2022-05-26T07:59...|    2022-05-26T06:07:...|       PREFEITURA DO MUN...|\n",
            "|{[{84b0d93c-a207-...|[{84b0d93c-a207-4...|{7e95ec35-996d-47...|{2022-05-26T07:59...|    2022-05-26T06:07:...|       PREFEITURA MUNICI...|\n",
            "|{[{84b0d93c-a207-...|[{84b0d93c-a207-4...|{a9a13b0b-877f-41...|{2022-05-26T07:59...|    2022-05-26T06:07:...|       MUNICIPIO DE VITORIA|\n",
            "|{[{84b0d93c-a207-...|[{84b0d93c-a207-4...|{72b20990-1bdb-49...|{2022-05-26T07:59...|    2022-05-26T06:07:...|       MUNICIPIO DE CURI...|\n",
            "|{[{84b0d93c-a207-...|[{84b0d93c-a207-4...|{47d5136a-5862-4c...|{2022-05-26T07:59...|    2022-05-26T06:07:...|       SMS RIO CF SOUZA ...|\n",
            "|{[{84b0d93c-a207-...|[{84b0d93c-a207-4...|{45fb3ed9-3120-44...|{2022-05-26T07:59...|    2022-05-26T06:07:...|       SECRETARIA MUNICI...|\n",
            "|{[{84b0d93c-a207-...|[{84b0d93c-a207-4...|{20e91af8-a5fe-4e...|{2022-05-26T07:59...|    2022-05-26T06:07:...|       SECRETARIA MUNICI...|\n",
            "+--------------------+--------------------+--------------------+--------------------+------------------------+---------------------------+\n",
            "\n"
          ]
        }
      ]
    },
    {
      "cell_type": "code",
      "source": [
        "q.write.json('s3a://debug-etl-vacinas-covid/debug-etl-vacinas-covid.csv')"
      ],
      "metadata": {
        "id": "4cGv3SUCwY7s"
      },
      "execution_count": null,
      "outputs": []
    },
    {
      "cell_type": "code",
      "source": [
        "df = spark.read.csv('s3a://debug-etl-vacinas-covid/debug-etl-vacinas-covid.csv')"
      ],
      "metadata": {
        "id": "8hX_C7zawcjS"
      },
      "execution_count": null,
      "outputs": []
    }
  ]
}